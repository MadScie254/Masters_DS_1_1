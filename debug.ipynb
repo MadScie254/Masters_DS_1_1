{
 "cells": [
  {
   "cell_type": "code",
   "execution_count": 3,
   "id": "0c2cdce8-4a4c-4235-b62c-696a0de559e3",
   "metadata": {},
   "outputs": [
    {
     "name": "stdout",
     "output_type": "stream",
     "text": [
      "JSON Decode Error: Expecting property name enclosed in double quotes: line 71 column 1 (char 2374)\n",
      "Failed to repair the notebook. Try manual cleanup.\n"
     ]
    }
   ],
   "source": [
    "import json\n",
    "\n",
    "file_path = \"proof.ipynb\"\n",
    "\n",
    "try:\n",
    "    # Attempt to load the notebook\n",
    "    with open(file_path, 'r') as file:\n",
    "        notebook = json.load(file)\n",
    "    print(\"Notebook is valid JSON.\")\n",
    "except json.JSONDecodeError as e:\n",
    "    print(f\"JSON Decode Error: {e}\")\n",
    "    # Attempt to clean up the file\n",
    "    with open(file_path, 'r') as file:\n",
    "        corrupted_content = file.read()\n",
    "    cleaned_content = corrupted_content.replace(\"\\r\", \"\").replace(\"\\n\", \"\")  # Basic cleanup\n",
    "    try:\n",
    "        notebook = json.loads(cleaned_content)\n",
    "        print(\"Successfully cleaned and loaded the notebook.\")\n",
    "        # Save the fixed file\n",
    "        with open(file_path, 'w') as file:\n",
    "            json.dump(notebook, file, indent=2)\n",
    "    except json.JSONDecodeError as e:\n",
    "        print(\"Failed to repair the notebook. Try manual cleanup.\")\n"
   ]
  },
  {
   "cell_type": "code",
   "execution_count": null,
   "id": "7a14c9d5-24bd-4d19-af69-5c8b02b96b4c",
   "metadata": {},
   "outputs": [],
   "source": []
  }
 ],
 "metadata": {
  "kernelspec": {
   "display_name": "Python 3 (ipykernel)",
   "language": "python",
   "name": "python3"
  },
  "language_info": {
   "codemirror_mode": {
    "name": "ipython",
    "version": 3
   },
   "file_extension": ".py",
   "mimetype": "text/x-python",
   "name": "python",
   "nbconvert_exporter": "python",
   "pygments_lexer": "ipython3",
   "version": "3.12.3"
  }
 },
 "nbformat": 4,
 "nbformat_minor": 5
}
